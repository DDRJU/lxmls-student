{
 "cells": [
  {
   "cell_type": "code",
   "execution_count": null,
   "id": "3ccf2c20",
   "metadata": {},
   "outputs": [],
   "source": [
    "import torch\n",
    "from transformers import GPT2Tokenizer, GPT2LMHeadModel\n",
    "\n",
    "from lxmls.transformers.model import GPT\n",
    "from lxmls.transformers.utils import set_seed\n",
    "from lxmls.transformers.bpe import BPETokenizer"
   ]
  },
  {
   "cell_type": "code",
   "execution_count": null,
   "id": "04597f5a",
   "metadata": {},
   "outputs": [],
   "source": [
    "model_type = 'gpt2'\n",
    "device = 'cuda'"
   ]
  },
  {
   "cell_type": "code",
   "execution_count": null,
   "id": "d4e427a8",
   "metadata": {},
   "outputs": [],
   "source": [
    "model = GPT.from_pretrained(model_type)"
   ]
  },
  {
   "cell_type": "code",
   "execution_count": null,
   "id": "b701bedf",
   "metadata": {},
   "outputs": [],
   "source": [
    "# ship model to device and set to eval mode\n",
    "model.to(device)\n",
    "model.eval();"
   ]
  },
  {
   "cell_type": "code",
   "execution_count": null,
   "id": "bfa673f5",
   "metadata": {},
   "outputs": [],
   "source": [
    "def generate(prompt='', num_samples=10, tokens=20, do_sample=True):\n",
    "        \n",
    "    # tokenize the input prompt into integer input sequence\n",
    "    tokenizer = BPETokenizer()\n",
    "    if prompt == '':\n",
    "        # to create unconditional samples...\n",
    "        # manually create a tensor with only the special <|endoftext|> token\n",
    "        # similar to what openai's code does here https://github.com/openai/gpt-2/blob/master/src/generate_unconditional_samples.py\n",
    "        x = torch.tensor([[tokenizer.encoder.encoder['<|endoftext|>']]], dtype=torch.long)\n",
    "    else:\n",
    "        x = tokenizer(prompt).to(device)\n",
    "    \n",
    "    # we'll process all desired num_samples in a batch, so expand out the batch dim\n",
    "    x = x.expand(num_samples, -1)\n",
    "\n",
    "    # forward the model `steps` times to get samples, in a batch\n",
    "    y = model.generate(x, max_new_tokens=tokens, do_sample=do_sample, top_k=num_samples*5)\n",
    "    \n",
    "    for i in range(num_samples):\n",
    "        out = tokenizer.decode(y[i].cpu().squeeze())\n",
    "        print('-'*80)\n",
    "        print(out)\n",
    "        "
   ]
  },
  {
   "cell_type": "code",
   "execution_count": null,
   "id": "a7241cd4",
   "metadata": {},
   "outputs": [],
   "source": [
    "generate(prompt='Ramon Astudio, the', num_samples=10, tokens=50)"
   ]
  },
  {
   "cell_type": "code",
   "execution_count": null,
   "id": "36d92ae7",
   "metadata": {},
   "outputs": [],
   "source": []
  }
 ],
 "metadata": {
  "kernelspec": {
   "display_name": "Python 3 (ipykernel)",
   "language": "python",
   "name": "python3"
  },
  "language_info": {
   "codemirror_mode": {
    "name": "ipython",
    "version": 3
   },
   "file_extension": ".py",
   "mimetype": "text/x-python",
   "name": "python",
   "nbconvert_exporter": "python",
   "pygments_lexer": "ipython3",
   "version": "3.10.11"
  }
 },
 "nbformat": 4,
 "nbformat_minor": 5
}
